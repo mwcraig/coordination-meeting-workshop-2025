{
 "cells": [
  {
   "cell_type": "markdown",
   "id": "04df6282-9e56-457d-ae08-2d132b452b55",
   "metadata": {
    "editable": true,
    "slideshow": {
     "slide_type": "slide"
    },
    "tags": []
   },
   "source": [
    "# Astropy community workshop\n",
    "### Santa Cruz, CA 6/23/2025\n",
    "#### Matt Craig, Professor Emeritus, Minnesota State University Moorhead \n",
    "#### mattwcraig@gmail.com or on astropy slack"
   ]
  },
  {
   "cell_type": "markdown",
   "id": "3b814d8c-a28a-45cc-aeb4-eb68c131a05c",
   "metadata": {
    "@deathbeds/jupyterlab-fonts": {
     "styles": {
      "": {
       "body[data-jp-deck-mode='presenting'] &": {
        "zoom": "168%"
       }
      }
     }
    },
    "editable": true,
    "slideshow": {
     "slide_type": "slide"
    },
    "tags": []
   },
   "source": [
    "## Overview\n",
    "\n",
    "+ Brief jupyter lab orientation\n",
    "+ Look at the image viewers notebook \n",
    "+ Photometry -- stellarphot, built on photutils\n",
    "  + Notebooks first, noting...\n",
    "  + what files are getting created along the way, then...\n",
    "  + redoing photometry without notebooks if you want.\n",
    "+ Color images\n",
    "  + Align via reprojection\n",
    "  + Combine the aligned images\n",
    "  + Make color image"
   ]
  },
  {
   "cell_type": "markdown",
   "id": "126b7da0-aead-4969-811f-e680a7b76680",
   "metadata": {
    "editable": true,
    "slideshow": {
     "slide_type": "slide"
    },
    "tags": []
   },
   "source": [
    "## Non-astronomy tools used\n",
    "\n",
    "1. `jupyter-app-launcher` for adding items to the launcher\n",
    "2. `pydantic` for constructing settings, serialization, validation, etc.\n",
    "3. `ipyautoui` and `ipywidgets` for forms and stuff\n",
    "4. `papermill` to make notebooks from a template and run them\n"
   ]
  },
  {
   "cell_type": "markdown",
   "id": "7803ce23-304d-4f70-b81e-980772e78f07",
   "metadata": {},
   "source": [
    "## Not as well know astronomy tools \n",
    "\n",
    "1. `astrowidgets` (major changes coming soon) interactive image viewer"
   ]
  },
  {
   "cell_type": "markdown",
   "id": "64adc09a-82c9-4aae-af35-e198ea90bb4c",
   "metadata": {
    "editable": true,
    "slideshow": {
     "slide_type": ""
    },
    "tags": []
   },
   "source": [
    "## What problem was stellarphot trying to solve?\n",
    "\n",
    "1. Usable in a freshman-level non-science-major observational astronomy course\n",
    "2. Build skills needed to pursue small research projects\n",
    "3. Stepping-stone to using Python"
   ]
  },
  {
   "cell_type": "markdown",
   "id": "60d38994-02e9-477f-82a3-64b9de194ab3",
   "metadata": {},
   "source": [
    "## Help!\n",
    "\n",
    "+ More users/bug reports would be great \n",
    "+ Really need more contributors to stellarphot\n",
    "+ Documentation, science, code contributions all welcome!\n",
    "\n",
    "https://github.com/feder-observatory/stellarphot"
   ]
  }
 ],
 "metadata": {
  "kernelspec": {
   "display_name": "Python 3 (ipykernel)",
   "language": "python",
   "name": "python3"
  },
  "language_info": {
   "codemirror_mode": {
    "name": "ipython",
    "version": 3
   },
   "file_extension": ".py",
   "mimetype": "text/x-python",
   "name": "python",
   "nbconvert_exporter": "python",
   "pygments_lexer": "ipython3",
   "version": "3.12.11"
  }
 },
 "nbformat": 4,
 "nbformat_minor": 5
}
