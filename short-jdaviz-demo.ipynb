{
 "cells": [
  {
   "cell_type": "markdown",
   "id": "4d512204-2dde-43dc-8486-0d1625d42815",
   "metadata": {},
   "source": [
    "## Short jdaviz demonstration"
   ]
  },
  {
   "cell_type": "code",
   "execution_count": null,
   "id": "a3b14c3e-bfa8-4457-8bbc-463454bd1f41",
   "metadata": {},
   "outputs": [],
   "source": [
    "import warnings\n",
    "from jdaviz import Imviz\n",
    "imviz = Imviz()\n",
    "viewer = imviz.default_viewer"
   ]
  },
  {
   "cell_type": "code",
   "execution_count": null,
   "id": "fb5944bc-c656-46c6-b6da-5c37511e421d",
   "metadata": {},
   "outputs": [],
   "source": [
    "filenames = [\n",
    "    \"combined/combined_light_filter_B.fit\",\n",
    "    \"combined/combined_light_filter_V.fit\",\n",
    "    \"combined/combined_light_filter_rp.fit\"\n",
    "]\n",
    "\n",
    "with warnings.catch_warnings(), imviz.batch_load():\n",
    "    warnings.simplefilter('ignore')\n",
    "    for fn in filenames:\n",
    "        imviz.load_data(fn, cache=True)"
   ]
  },
  {
   "cell_type": "code",
   "execution_count": null,
   "id": "3726d049-4650-489f-9296-f2bbff217a01",
   "metadata": {},
   "outputs": [],
   "source": [
    "imviz.show()"
   ]
  },
  {
   "cell_type": "code",
   "execution_count": null,
   "id": "1e2ba90d-1944-4f80-8102-39751db7ee4d",
   "metadata": {},
   "outputs": [],
   "source": []
  }
 ],
 "metadata": {
  "kernelspec": {
   "display_name": "Python 3 (ipykernel)",
   "language": "python",
   "name": "python3"
  },
  "language_info": {
   "codemirror_mode": {
    "name": "ipython",
    "version": 3
   },
   "file_extension": ".py",
   "mimetype": "text/x-python",
   "name": "python",
   "nbconvert_exporter": "python",
   "pygments_lexer": "ipython3",
   "version": "3.12.11"
  }
 },
 "nbformat": 4,
 "nbformat_minor": 5
}
